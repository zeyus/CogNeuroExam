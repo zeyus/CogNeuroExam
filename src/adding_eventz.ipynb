{
 "cells": [
  {
   "cell_type": "code",
   "execution_count": 3,
   "metadata": {},
   "outputs": [],
   "source": [
    "# A script that edits .txt file like it was a .csv file\n",
    "import os\n",
    "import pandas as pd\n",
    "import numpy as np"
   ]
  },
  {
   "cell_type": "code",
   "execution_count": 6,
   "metadata": {},
   "outputs": [
    {
     "name": "stderr",
     "output_type": "stream",
     "text": [
      "/var/folders/rm/_7rkq2vn3718t6vzkzstldjw0000gn/T/ipykernel_4362/3893320418.py:20: SettingWithCopyWarning: \n",
      "A value is trying to be set on a copy of a slice from a DataFrame\n",
      "\n",
      "See the caveats in the documentation: https://pandas.pydata.org/pandas-docs/stable/user_guide/indexing.html#returning-a-view-versus-a-copy\n",
      "  df[17][i+4000] = '0071'\n",
      "/var/folders/rm/_7rkq2vn3718t6vzkzstldjw0000gn/T/ipykernel_4362/3893320418.py:22: SettingWithCopyWarning: \n",
      "A value is trying to be set on a copy of a slice from a DataFrame\n",
      "\n",
      "See the caveats in the documentation: https://pandas.pydata.org/pandas-docs/stable/user_guide/indexing.html#returning-a-view-versus-a-copy\n",
      "  df[17][i+4000] = \"006F\"\n"
     ]
    },
    {
     "data": {
      "text/plain": [
       "array(['0000', '0066', '006B', '006E', '006C', '0071', '0072', '006F',\n",
       "       '0035'], dtype=object)"
      ]
     },
     "execution_count": 6,
     "metadata": {},
     "output_type": "execute_result"
    }
   ],
   "source": [
    "# Load the .txt file from current directory\n",
    "\n",
    "#filez = open('./OBCI_22_clean.txt', 'r+')\n",
    "\n",
    "# Find a line with a 0066 value and change the next line to 099 after it\n",
    "\n",
    "df = pd.read_csv('./OBCI_22_clean.txt', header=None)\n",
    "\n",
    "# Adds eeg names as columns to the csv file\n",
    "\n",
    "\n",
    "#df.columns(\"time\", \"eeg1\", \"eeg2\", \"eeg3\", \"eeg4\", \"eeg5\", \"eeg6\", \"eeg7\", \"eeg8\", \"eeg9\", \"eeg10\", \"eeg11\", \"eeg12\", \"emg1\", \"emg2\", \"emg3\", \"emg4\", \"emg5\", \"emg6\", \"emg7\", \"emg8\", \"emg9\", \"emg10\", \"emg11\", \"emg12\", \"marker\")\n",
    "\n",
    "df[17].unique()\n",
    "\n",
    "# Loop through values in column 17 and replace some with 0199\n",
    "\n",
    "for i in range(len(df[17])):\n",
    "    if df[17][i] == '006C':\n",
    "        df[17][i+4000] = '0071'\n",
    "    if df[17][i] == \"0072\":\n",
    "        df[17][i+4000] = \"006F\"\n",
    "\n",
    "df[17].unique()\n",
    "\n",
    "# Write a .txt file from .csv pandas dataframe"
   ]
  },
  {
   "cell_type": "code",
   "execution_count": 7,
   "metadata": {},
   "outputs": [],
   "source": [
    "df.to_csv('text_OBCI_22_clean.txt', sep = ',', index=False, header=False)"
   ]
  },
  {
   "cell_type": "code",
   "execution_count": 5,
   "metadata": {},
   "outputs": [
    {
     "data": {
      "text/plain": [
       "array(['0000', '0066', '006B', '006E', '006C', '0072', '0035'],\n",
       "      dtype=object)"
      ]
     },
     "execution_count": 5,
     "metadata": {},
     "output_type": "execute_result"
    }
   ],
   "source": [
    "df = pd.read_csv('./OBCI_22_clean.txt', header=None)\n",
    "df[17].unique()"
   ]
  },
  {
   "cell_type": "code",
   "execution_count": 60,
   "metadata": {},
   "outputs": [
    {
     "data": {
      "text/plain": [
       "'0x6f'"
      ]
     },
     "execution_count": 60,
     "metadata": {},
     "output_type": "execute_result"
    }
   ],
   "source": [
    "hex(ord('o'))"
   ]
  },
  {
   "cell_type": "code",
   "execution_count": 11,
   "metadata": {},
   "outputs": [
    {
     "ename": "NameError",
     "evalue": "name 'df' is not defined",
     "output_type": "error",
     "traceback": [
      "\u001b[0;31m---------------------------------------------------------------------------\u001b[0m",
      "\u001b[0;31mNameError\u001b[0m                                 Traceback (most recent call last)",
      "\u001b[1;32m/Users/baskakovs/Documents/neurotech/CogNeuroExam/src/adding_eventz.ipynb Cell 3'\u001b[0m in \u001b[0;36m<cell line: 22>\u001b[0;34m()\u001b[0m\n\u001b[1;32m     <a href='vscode-notebook-cell:/Users/baskakovs/Documents/neurotech/CogNeuroExam/src/adding_eventz.ipynb#ch0000002?line=17'>18</a>\u001b[0m     \u001b[39mreturn\u001b[39;00m df\n\u001b[1;32m     <a href='vscode-notebook-cell:/Users/baskakovs/Documents/neurotech/CogNeuroExam/src/adding_eventz.ipynb#ch0000002?line=19'>20</a>\u001b[0m convertz()\n\u001b[0;32m---> <a href='vscode-notebook-cell:/Users/baskakovs/Documents/neurotech/CogNeuroExam/src/adding_eventz.ipynb#ch0000002?line=21'>22</a>\u001b[0m \u001b[39mprint\u001b[39m(df[\u001b[39m1\u001b[39m])\n",
      "\u001b[0;31mNameError\u001b[0m: name 'df' is not defined"
     ]
    }
   ],
   "source": [
    "def convertz():\n",
    "    # Read the .txt file\n",
    "    data = filez.read()\n",
    "    # Split the data into a list of lines\n",
    "    lines = data.split('\\n')\n",
    "    # Create a list of lists\n",
    "    new_lines = []\n",
    "    # Loop through the lines\n",
    "    for line in lines:\n",
    "        # Split the line into a list of strings\n",
    "        new_line = line.split('\\t')\n",
    "        # Add the new list to the list of lists\n",
    "        new_lines.append(new_line)\n",
    "    # Create a dataframe from the list of lists\n",
    "    df = pd.DataFrame(new_lines)\n",
    "    # Save the dataframe as a .csv file\n",
    "    df.to_csv('./OBCI_22_clean.csv', index=False, header=False)\n",
    "\n",
    "convertz()"
   ]
  },
  {
   "cell_type": "code",
   "execution_count": 21,
   "metadata": {},
   "outputs": [],
   "source": [
    "# Load a csv file into a pandas dataframe\n",
    "\n",
    "df = pd.read_csv(\"./OBCI_22_clean.csv\")\n",
    "#print(df)\n",
    "df.columns(\"1\", \"2\", \"3\", \"4\", \"5\", \"6\", \"7\", \"8\", \"9\", \"10\", \"11\", \"12\", \"13\", \"14\", \"15\", \"16\", \"17\", \"one\", \"two\", \"three\")\n",
    "\n"
   ]
  },
  {
   "cell_type": "code",
   "execution_count": null,
   "metadata": {},
   "outputs": [],
   "source": []
  }
 ],
 "metadata": {
  "interpreter": {
   "hash": "1dfc5870b58e7b9131819c4f011a3306669dab209f49de6ddc53a73c10061d2e"
  },
  "kernelspec": {
   "display_name": "Python 3.9.7 ('neuroexam')",
   "language": "python",
   "name": "python3"
  },
  "language_info": {
   "codemirror_mode": {
    "name": "ipython",
    "version": 3
   },
   "file_extension": ".py",
   "mimetype": "text/x-python",
   "name": "python",
   "nbconvert_exporter": "python",
   "pygments_lexer": "ipython3",
   "version": "3.9.7"
  },
  "orig_nbformat": 4
 },
 "nbformat": 4,
 "nbformat_minor": 2
}
